{
 "cells": [
  {
   "cell_type": "markdown",
   "metadata": {},
   "source": [
    "\n",
    "# Goal\n",
    "\n",
    "- find the coordinates of two addresses\n",
    "- compute the haversine distance"
   ]
  },
  {
   "cell_type": "code",
   "execution_count": 3,
   "metadata": {},
   "outputs": [],
   "source": [
    "\n",
    "URL = \"https://api-adresse.data.gouv.fr/search/?q=\"\n",
    "ADDRESS = \"31 avenue du Granier, 38240, Meylan\"\n",
    "r = requests.get(URL + ADDRESS)\n",
    "r.json()['features'][0]['geometry']['coordinates'][::-1]"
   ]
  },
  {
   "cell_type": "code",
   "execution_count": 3,
   "metadata": {},
   "outputs": [],
   "source": [
    "import requests\n",
    "def get_coordinates(address: str) -> list:\n",
    "    URL = \"https://api-adresse.data.gouv.fr/search/?q=\"\n",
    "    r = requests.get(URL + address)\n",
    "    return r.json()['features'][0]['geometry']['coordinates'][::-1]\n",
    "\n",
    "first_place = get_coordinates(\"31 avenue du Granier, 38240, Grenoble\")\n",
    "second_place = get_coordinates(\"Av. de Lérins, 04360, Moustiers-Sainte-Marie\")"
   ]
  },
  {
   "cell_type": "code",
   "execution_count": 5,
   "metadata": {},
   "outputs": [
    {
     "data": {
      "text/plain": [
       "155.8029979478298"
      ]
     },
     "execution_count": 5,
     "metadata": {},
     "output_type": "execute_result"
    }
   ],
   "source": [
    "from haversine import haversine\n",
    "haversine(first_place, second_place)"
   ]
  },
  {
   "cell_type": "code",
   "execution_count": null,
   "metadata": {},
   "outputs": [],
   "source": []
  }
 ],
 "metadata": {
  "kernelspec": {
   "display_name": "ill-env-2",
   "language": "python",
   "name": "python3"
  },
  "language_info": {
   "codemirror_mode": {
    "name": "ipython",
    "version": 3
   },
   "file_extension": ".py",
   "mimetype": "text/x-python",
   "name": "python",
   "nbconvert_exporter": "python",
   "pygments_lexer": "ipython3",
   "version": "3.11.0"
  }
 },
 "nbformat": 4,
 "nbformat_minor": 2
}
